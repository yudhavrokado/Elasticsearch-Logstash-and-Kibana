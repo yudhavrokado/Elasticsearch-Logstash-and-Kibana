{
 "metadata": {
  "language_info": {
   "codemirror_mode": {
    "name": "ipython",
    "version": 3
   },
   "file_extension": ".py",
   "mimetype": "text/x-python",
   "name": "python",
   "nbconvert_exporter": "python",
   "pygments_lexer": "ipython3",
   "version": "3.8.6-final"
  },
  "orig_nbformat": 2,
  "kernelspec": {
   "name": "python3",
   "display_name": "Python 3.8.6 64-bit ('venv')",
   "metadata": {
    "interpreter": {
     "hash": "439a9563e46fe303c2b28a4ddb4f010ac88f695d71e19c9b5d61febb59f1ecaf"
    }
   }
  }
 },
 "nbformat": 4,
 "nbformat_minor": 2,
 "cells": [
  {
   "cell_type": "code",
   "execution_count": 1,
   "metadata": {},
   "outputs": [
    {
     "output_type": "stream",
     "name": "stdout",
     "text": [
      "All modules are loaded\n"
     ]
    }
   ],
   "source": [
    "try:\n",
    "    import os\n",
    "    import sys\n",
    "    import elasticsearch\n",
    "    from elasticsearch import Elasticsearch\n",
    "    from elasticsearch import helpers\n",
    "    import csv\n",
    "    import requests\n",
    "    import re\n",
    "    import json\n",
    "    from datetime import datetime\n",
    "    from pprint import pprint\n",
    "    import timeit\n",
    "    import pandas as pd\n",
    "    import numpy as np\n",
    "\n",
    "    \n",
    "    print(\"All modules are loaded\")\n",
    "except Exception as e:\n",
    "    print(\"Some module are missing\".format(e))\n",
    "\n",
    "class SetEncoder(json.JSONEncoder):\n",
    "    def default(self, obj):\n",
    "        if isinstance(obj, np.int64):\n",
    "            return np.int(obj)\n",
    "        # else\n",
    "        return json.JSONEncoder.default(self, obj)"
   ]
  },
  {
   "cell_type": "code",
   "execution_count": 2,
   "metadata": {},
   "outputs": [
    {
     "output_type": "stream",
     "name": "stdout",
     "text": [
      "<class 'pandas.core.frame.DataFrame'>\nRangeIndex: 1036451 entries, 0 to 1036450\nData columns (total 22 columns):\n #   Column                Non-Null Count    Dtype  \n---  ------                --------------    -----  \n 0   nmprop                1036451 non-null  object \n 1   nmkab                 1036451 non-null  object \n 2   nmkec                 1036426 non-null  object \n 3   nmdesa                1036303 non-null  object \n 4   pekerjaan_utama       1036451 non-null  object \n 5   kepemilikan_rumah     1036451 non-null  object \n 6   luas_lantai           1036451 non-null  int64  \n 7   Jumlah_ART            1036451 non-null  int64  \n 8   Stdt_luas_rmh         1036451 non-null  object \n 9   lantai_terluas        1036451 non-null  object \n 10  dinding_terluas       1036451 non-null  object \n 11  atap_terluas          1036451 non-null  object \n 12  Stdt_bangunan_rumah   1036451 non-null  object \n 13  sumber_airminum       1036451 non-null  object \n 14  Stdt_sumber_airminum  1036451 non-null  object \n 15  fasilitas_bab         1036451 non-null  object \n 16  jenis_kloset          1036451 non-null  object \n 17  pembuangan_tinja      1036451 non-null  object \n 18  Stdt_sanitasi         1036451 non-null  object \n 19  rumah_layak_huni      1036451 non-null  object \n 20  kategori              914309 non-null   object \n 21  Jumlah_bansos_rutin   1036444 non-null  float64\ndtypes: float64(1), int64(2), object(19)\nmemory usage: 174.0+ MB\n"
     ]
    }
   ],
   "source": [
    "raw = pd.read_csv(\"dtksjan20_pupr.csv\", header=0)\n",
    "df = pd.DataFrame(raw)\n",
    "df.info()"
   ]
  },
  {
   "cell_type": "code",
   "execution_count": 3,
   "metadata": {},
   "outputs": [],
   "source": [
    "df['id'] = np.random.randint(0,1036452, df.shape[0])"
   ]
  },
  {
   "cell_type": "code",
   "execution_count": 4,
   "metadata": {},
   "outputs": [
    {
     "output_type": "execute_result",
     "data": {
      "text/plain": [
       "  nmprop     nmkab          nmkec        nmdesa      pekerjaan_utama  \\\n",
       "0   ACEH  SIMEULUE  TEUPAH TENGAH  BUSUNG INDAH              Lainnya   \n",
       "1   ACEH  SIMEULUE  TEUPAH TENGAH  BUSUNG INDAH              Lainnya   \n",
       "2   ACEH  SIMEULUE  TEUPAH TENGAH  BUSUNG INDAH  Hotel & rumah makan   \n",
       "3   ACEH  SIMEULUE  TEUPAH TENGAH  BUSUNG INDAH  Jasa kemasyarakatan   \n",
       "4   ACEH  SIMEULUE  TEUPAH TENGAH  BUSUNG INDAH  Jasa kemasyarakatan   \n",
       "\n",
       "  kepemilikan_rumah  luas_lantai  Jumlah_ART Stdt_luas_rmh    lantai_terluas  \\\n",
       "0     Milik sendiri           77           3         Layak  Semen/bata merah   \n",
       "1     Milik sendiri           36           1         Layak  Semen/bata merah   \n",
       "2     Milik sendiri           49           9   Tidak Layak  Semen/bata merah   \n",
       "3           Lainnya           30           2         Layak  Semen/bata merah   \n",
       "4     Milik sendiri           25           3         Layak  Semen/bata merah   \n",
       "\n",
       "   ...   sumber_airminum Stdt_sumber_airminum fasilitas_bab jenis_kloset  \\\n",
       "0  ...     Air isi ulang                Layak     Tidak ada  Tidak pakai   \n",
       "1  ...  Sumur terlindung                Layak       Sendiri  Leher angsa   \n",
       "2  ...     Air isi ulang                Layak       Sendiri  Leher angsa   \n",
       "3  ...     Air isi ulang                Layak     Tidak ada  Tidak pakai   \n",
       "4  ...     Air isi ulang                Layak     Tidak ada  Tidak pakai   \n",
       "\n",
       "                pembuangan_tinja Stdt_sanitasi rumah_layak_huni kategori  \\\n",
       "0  Kolam/sawah/sungai/danau/laut   Tidak Layak      Tidak layak    Mampu   \n",
       "1                         Tangki         Layak            Layak    Mampu   \n",
       "2                         Tangki         Layak      Tidak layak    Mampu   \n",
       "3      Pantai/tanah lapang/kebun   Tidak Layak      Tidak layak    Mampu   \n",
       "4                        Lainnya   Tidak Layak      Tidak layak    Mampu   \n",
       "\n",
       "  Jumlah_bansos_rutin      id  \n",
       "0                 0.0  836870  \n",
       "1                 1.0  717054  \n",
       "2                 0.0  664033  \n",
       "3                 1.0  460793  \n",
       "4                 1.0  611329  \n",
       "\n",
       "[5 rows x 23 columns]"
      ],
      "text/html": "<div>\n<style scoped>\n    .dataframe tbody tr th:only-of-type {\n        vertical-align: middle;\n    }\n\n    .dataframe tbody tr th {\n        vertical-align: top;\n    }\n\n    .dataframe thead th {\n        text-align: right;\n    }\n</style>\n<table border=\"1\" class=\"dataframe\">\n  <thead>\n    <tr style=\"text-align: right;\">\n      <th></th>\n      <th>nmprop</th>\n      <th>nmkab</th>\n      <th>nmkec</th>\n      <th>nmdesa</th>\n      <th>pekerjaan_utama</th>\n      <th>kepemilikan_rumah</th>\n      <th>luas_lantai</th>\n      <th>Jumlah_ART</th>\n      <th>Stdt_luas_rmh</th>\n      <th>lantai_terluas</th>\n      <th>...</th>\n      <th>sumber_airminum</th>\n      <th>Stdt_sumber_airminum</th>\n      <th>fasilitas_bab</th>\n      <th>jenis_kloset</th>\n      <th>pembuangan_tinja</th>\n      <th>Stdt_sanitasi</th>\n      <th>rumah_layak_huni</th>\n      <th>kategori</th>\n      <th>Jumlah_bansos_rutin</th>\n      <th>id</th>\n    </tr>\n  </thead>\n  <tbody>\n    <tr>\n      <th>0</th>\n      <td>ACEH</td>\n      <td>SIMEULUE</td>\n      <td>TEUPAH TENGAH</td>\n      <td>BUSUNG INDAH</td>\n      <td>Lainnya</td>\n      <td>Milik sendiri</td>\n      <td>77</td>\n      <td>3</td>\n      <td>Layak</td>\n      <td>Semen/bata merah</td>\n      <td>...</td>\n      <td>Air isi ulang</td>\n      <td>Layak</td>\n      <td>Tidak ada</td>\n      <td>Tidak pakai</td>\n      <td>Kolam/sawah/sungai/danau/laut</td>\n      <td>Tidak Layak</td>\n      <td>Tidak layak</td>\n      <td>Mampu</td>\n      <td>0.0</td>\n      <td>836870</td>\n    </tr>\n    <tr>\n      <th>1</th>\n      <td>ACEH</td>\n      <td>SIMEULUE</td>\n      <td>TEUPAH TENGAH</td>\n      <td>BUSUNG INDAH</td>\n      <td>Lainnya</td>\n      <td>Milik sendiri</td>\n      <td>36</td>\n      <td>1</td>\n      <td>Layak</td>\n      <td>Semen/bata merah</td>\n      <td>...</td>\n      <td>Sumur terlindung</td>\n      <td>Layak</td>\n      <td>Sendiri</td>\n      <td>Leher angsa</td>\n      <td>Tangki</td>\n      <td>Layak</td>\n      <td>Layak</td>\n      <td>Mampu</td>\n      <td>1.0</td>\n      <td>717054</td>\n    </tr>\n    <tr>\n      <th>2</th>\n      <td>ACEH</td>\n      <td>SIMEULUE</td>\n      <td>TEUPAH TENGAH</td>\n      <td>BUSUNG INDAH</td>\n      <td>Hotel &amp; rumah makan</td>\n      <td>Milik sendiri</td>\n      <td>49</td>\n      <td>9</td>\n      <td>Tidak Layak</td>\n      <td>Semen/bata merah</td>\n      <td>...</td>\n      <td>Air isi ulang</td>\n      <td>Layak</td>\n      <td>Sendiri</td>\n      <td>Leher angsa</td>\n      <td>Tangki</td>\n      <td>Layak</td>\n      <td>Tidak layak</td>\n      <td>Mampu</td>\n      <td>0.0</td>\n      <td>664033</td>\n    </tr>\n    <tr>\n      <th>3</th>\n      <td>ACEH</td>\n      <td>SIMEULUE</td>\n      <td>TEUPAH TENGAH</td>\n      <td>BUSUNG INDAH</td>\n      <td>Jasa kemasyarakatan</td>\n      <td>Lainnya</td>\n      <td>30</td>\n      <td>2</td>\n      <td>Layak</td>\n      <td>Semen/bata merah</td>\n      <td>...</td>\n      <td>Air isi ulang</td>\n      <td>Layak</td>\n      <td>Tidak ada</td>\n      <td>Tidak pakai</td>\n      <td>Pantai/tanah lapang/kebun</td>\n      <td>Tidak Layak</td>\n      <td>Tidak layak</td>\n      <td>Mampu</td>\n      <td>1.0</td>\n      <td>460793</td>\n    </tr>\n    <tr>\n      <th>4</th>\n      <td>ACEH</td>\n      <td>SIMEULUE</td>\n      <td>TEUPAH TENGAH</td>\n      <td>BUSUNG INDAH</td>\n      <td>Jasa kemasyarakatan</td>\n      <td>Milik sendiri</td>\n      <td>25</td>\n      <td>3</td>\n      <td>Layak</td>\n      <td>Semen/bata merah</td>\n      <td>...</td>\n      <td>Air isi ulang</td>\n      <td>Layak</td>\n      <td>Tidak ada</td>\n      <td>Tidak pakai</td>\n      <td>Lainnya</td>\n      <td>Tidak Layak</td>\n      <td>Tidak layak</td>\n      <td>Mampu</td>\n      <td>1.0</td>\n      <td>611329</td>\n    </tr>\n  </tbody>\n</table>\n<p>5 rows × 23 columns</p>\n</div>"
     },
     "metadata": {},
     "execution_count": 4
    }
   ],
   "source": [
    "df.head()"
   ]
  },
  {
   "cell_type": "code",
   "execution_count": 5,
   "metadata": {},
   "outputs": [
    {
     "output_type": "stream",
     "name": "stdout",
     "text": [
      "<class 'pandas.core.frame.DataFrame'>\nRangeIndex: 1036451 entries, 0 to 1036450\nData columns (total 23 columns):\n #   Column                Non-Null Count    Dtype  \n---  ------                --------------    -----  \n 0   nmprop                1036451 non-null  object \n 1   nmkab                 1036451 non-null  object \n 2   nmkec                 1036426 non-null  object \n 3   nmdesa                1036303 non-null  object \n 4   pekerjaan_utama       1036451 non-null  object \n 5   kepemilikan_rumah     1036451 non-null  object \n 6   luas_lantai           1036451 non-null  int64  \n 7   Jumlah_ART            1036451 non-null  int64  \n 8   Stdt_luas_rmh         1036451 non-null  object \n 9   lantai_terluas        1036451 non-null  object \n 10  dinding_terluas       1036451 non-null  object \n 11  atap_terluas          1036451 non-null  object \n 12  Stdt_bangunan_rumah   1036451 non-null  object \n 13  sumber_airminum       1036451 non-null  object \n 14  Stdt_sumber_airminum  1036451 non-null  object \n 15  fasilitas_bab         1036451 non-null  object \n 16  jenis_kloset          1036451 non-null  object \n 17  pembuangan_tinja      1036451 non-null  object \n 18  Stdt_sanitasi         1036451 non-null  object \n 19  rumah_layak_huni      1036451 non-null  object \n 20  kategori              914309 non-null   object \n 21  Jumlah_bansos_rutin   1036444 non-null  float64\n 22  id                    1036451 non-null  int32  \ndtypes: float64(1), int32(1), int64(2), object(19)\nmemory usage: 177.9+ MB\n"
     ]
    }
   ],
   "source": [
    "df.info()"
   ]
  },
  {
   "cell_type": "code",
   "execution_count": 6,
   "metadata": {},
   "outputs": [
    {
     "output_type": "stream",
     "name": "stdout",
     "text": [
      "b'{\\n  \"name\" : \"semantic101\",\\n  \"cluster_name\" : \"semanticDB\",\\n  \"cluster_uuid\" : \"DDJhcfKTTuiO7RBCXE6mZA\",\\n  \"version\" : {\\n    \"number\" : \"7.6.1\",\\n    \"build_flavor\" : \"default\",\\n    \"build_type\" : \"rpm\",\\n    \"build_hash\" : \"aa751e09be0a5072e8570670309b1f12348f023b\",\\n    \"build_date\" : \"2020-02-29T00:15:25.529771Z\",\\n    \"build_snapshot\" : false,\\n    \"lucene_version\" : \"8.4.0\",\\n    \"minimum_wire_compatibility_version\" : \"6.8.0\",\\n    \"minimum_index_compatibility_version\" : \"6.0.0-beta1\"\\n  },\\n  \"tagline\" : \"You Know, for Search\"\\n}\\n'\n"
     ]
    }
   ],
   "source": [
    "res = requests.get('http://10.17.5.101:9200/')\n",
    "print(res.content)"
   ]
  },
  {
   "cell_type": "code",
   "execution_count": 7,
   "metadata": {},
   "outputs": [
    {
     "output_type": "execute_result",
     "data": {
      "text/plain": [
       "True"
      ]
     },
     "metadata": {},
     "execution_count": 7
    }
   ],
   "source": [
    "es = Elasticsearch(\"http://10.17.5.101:9200\", timeout=30, max_retries=10, retry_on_timeout=True)\n",
    "es.ping()"
   ]
  },
  {
   "cell_type": "code",
   "execution_count": 8,
   "metadata": {},
   "outputs": [],
   "source": [
    "df2 = df.to_dict('records')"
   ]
  },
  {
   "cell_type": "code",
   "execution_count": 9,
   "metadata": {},
   "outputs": [
    {
     "output_type": "execute_result",
     "data": {
      "text/plain": [
       "{'nmprop': 'SUMATERA UTARA',\n",
       " 'nmkab': 'PADANG LAWAS UTARA',\n",
       " 'nmkec': 'DOLOK SIGOMPULON',\n",
       " 'nmdesa': 'SIPOGAS A',\n",
       " 'pekerjaan_utama': 'Lainnya',\n",
       " 'kepemilikan_rumah': 'Milik sendiri',\n",
       " 'luas_lantai': 30,\n",
       " 'Jumlah_ART': 3,\n",
       " 'Stdt_luas_rmh': 'Layak',\n",
       " 'lantai_terluas': 'Tanah',\n",
       " 'dinding_terluas': 'Kayu/papan',\n",
       " 'atap_terluas': 'Seng',\n",
       " 'Stdt_bangunan_rumah': 'Tidak Layak',\n",
       " 'sumber_airminum': 'Air permukaan',\n",
       " 'Stdt_sumber_airminum': 'Tidak Layak',\n",
       " 'fasilitas_bab': 'Tidak ada',\n",
       " 'jenis_kloset': 'Tidak pakai',\n",
       " 'pembuangan_tinja': 'Kolam/sawah/sungai/danau/laut',\n",
       " 'Stdt_sanitasi': 'Tidak Layak',\n",
       " 'rumah_layak_huni': 'Tidak layak',\n",
       " 'kategori': nan,\n",
       " 'Jumlah_bansos_rutin': 1.0,\n",
       " 'id': 127939}"
      ]
     },
     "metadata": {},
     "execution_count": 9
    }
   ],
   "source": [
    "df2[1036450]"
   ]
  },
  {
   "cell_type": "code",
   "execution_count": 10,
   "metadata": {},
   "outputs": [],
   "source": [
    "index_name = 'dtksjan20_hashed'\n",
    "if es.indices.exists(index_name):\n",
    "    es.indices.delete(index_name)"
   ]
  },
  {
   "cell_type": "code",
   "execution_count": 11,
   "metadata": {},
   "outputs": [],
   "source": [
    "def generator(df2):\n",
    "    for c, line in enumerate(df2):\n",
    "        yield{\n",
    "    '_index': 'dtksjan20_hashed',\n",
    "    '_type': '_doc',\n",
    "    '_id':line.get(\"id\", None),\n",
    "    '_source': {\n",
    "        'nmprop':line.get('nmprop', \"\"),\n",
    "        'nmkab':line.get('nmkab', \"\"),\n",
    "        'nmkec':line.get('nmkec', \"\"),\n",
    "        'nmdesa':line.get('nmdesa', \"\"),\n",
    "        'pekerjaan_utama':line.get('pekerjaan_utama', \"\"),\n",
    "        'kepemilikan_rumah':line.get('kepemilikan_rumah', \"\"),\n",
    "        'luas_lantai':line.get('luas_lantai', \"\"),\n",
    "        'jumlah_art':line.get('Jumlah_ART', \"\"),\n",
    "        'Stdt_luas_rumah':line.get('Stdt_luas_rumah', \"\"),\n",
    "        'lantai_terluas':line.get('lantai_terluas', \"\"),\n",
    "        'dinding_terluas':line.get('dinding_terluas', \"\"),\n",
    "        'atap_terluas':line.get('atap_terluas', \"\"),\\\n",
    "        'Stdt_bangunan_rumah':line.get('Stdt_bangunan_rumah', \"\"),\n",
    "        'sumber_airminum':line.get('sumber_airminum', \"\"),\n",
    "        'Stdt_sumber_airminum':line.get('Stdt_sumber_airminum', \"\"),\n",
    "        'fasilitas_bab':line.get('fasilitas_bab', \"\"),\n",
    "        'jenis_kloset':line.get('jenis_kloset', \"\"),\n",
    "        'pembuangan_tinja':line.get('pembuangan_tinja', \"\"),\n",
    "        'Stdt_sanitasi':line.get('Stdt_sanitasi', \"\"),\n",
    "        'rumah_layak_huni':line.get('rumah_layak_huni', \"\"),\n",
    "        'kategori':line.get('kategori', \"\"),\n",
    "        'jumlah_bansos_rutin':line.get('Jumlah_bansos_rutin', \"\")\n",
    "    }\n",
    "        }\n",
    "    raise StopIteration"
   ]
  },
  {
   "cell_type": "code",
   "execution_count": 12,
   "metadata": {},
   "outputs": [],
   "source": [
    "test = generator(df2)"
   ]
  },
  {
   "cell_type": "code",
   "execution_count": 13,
   "metadata": {},
   "outputs": [
    {
     "output_type": "execute_result",
     "data": {
      "text/plain": [
       "{'_index': 'dtksjan20_hashed',\n",
       " '_type': '_doc',\n",
       " '_id': 836870,\n",
       " '_source': {'nmprop': 'ACEH',\n",
       "  'nmkab': 'SIMEULUE',\n",
       "  'nmkec': 'TEUPAH TENGAH',\n",
       "  'nmdesa': 'BUSUNG INDAH',\n",
       "  'pekerjaan_utama': 'Lainnya',\n",
       "  'kepemilikan_rumah': 'Milik sendiri',\n",
       "  'luas_lantai': 77,\n",
       "  'jumlah_art': 3,\n",
       "  'Stdt_luas_rumah': '',\n",
       "  'lantai_terluas': 'Semen/bata merah',\n",
       "  'dinding_terluas': 'Kayu/papan',\n",
       "  'atap_terluas': 'Seng',\n",
       "  'Stdt_bangunan_rumah': 'Layak',\n",
       "  'sumber_airminum': 'Air isi ulang',\n",
       "  'Stdt_sumber_airminum': 'Layak',\n",
       "  'fasilitas_bab': 'Tidak ada',\n",
       "  'jenis_kloset': 'Tidak pakai',\n",
       "  'pembuangan_tinja': 'Kolam/sawah/sungai/danau/laut',\n",
       "  'Stdt_sanitasi': 'Tidak Layak',\n",
       "  'rumah_layak_huni': 'Tidak layak',\n",
       "  'kategori': 'Mampu',\n",
       "  'jumlah_bansos_rutin': 0.0}}"
      ]
     },
     "metadata": {},
     "execution_count": 13
    }
   ],
   "source": [
    "next(test)"
   ]
  },
  {
   "cell_type": "code",
   "execution_count": 14,
   "metadata": {},
   "outputs": [],
   "source": [
    "mapping = {\n",
    "   \"settings\":{\n",
    "      \"number_of_shards\":1,\n",
    "      \"number_of_replicas\":0\n",
    "   },\n",
    "   \"mappings\":{\n",
    "      \"properties\":{\n",
    "         \"nmprop\":{\n",
    "            \"type\":\"keyword\"\n",
    "         },\n",
    "         \"nmkab\":{\n",
    "            \"type\":\"keyword\"\n",
    "         },\n",
    "         \"nmkec\":{\n",
    "            \"type\":\"keyword\"\n",
    "         },\n",
    "         \"nmdesa\":{\n",
    "            \"type\":\"keyword\"\n",
    "         },\n",
    "         \"pekerjaan_utama\":{\n",
    "            \"type\":\"text\"\n",
    "         },\n",
    "         \"kepemilikan_rumah\":{\n",
    "            \"type\":\"keyword\"\n",
    "         },\n",
    "         \"luas_lantai\":{\n",
    "            \"type\":\"integer\"\n",
    "         },\n",
    "         \"Jumlah_ART\":{\n",
    "            \"type\":\"integer\"\n",
    "         },\n",
    "         \"Stdt_luas_rumah\":{\n",
    "            \"type\":\"text\"\n",
    "         },\n",
    "         \"lantai_terluas\":{\n",
    "            \"type\":\"text\"\n",
    "         },\n",
    "         \"dinding_terluas\":{\n",
    "            \"type\":\"text\"\n",
    "         },\n",
    "         \"atap_terluas\":{\n",
    "            \"type\":\"text\"\n",
    "         },\n",
    "         \"Stdt_bangunan_rumah\":{\n",
    "            \"type\":\"text\"\n",
    "         },\n",
    "         \"sumber_airminum\":{\n",
    "            \"type\":\"text\"\n",
    "         },\n",
    "         \"Stdt_sumber_ariminum\":{\n",
    "            \"type\":\"text\"\n",
    "         },\n",
    "         \"fasilitas_bab\":{\n",
    "            \"type\":\"text\"\n",
    "         },\n",
    "         \"jenis_kloset\":{\n",
    "            \"type\":\"text\"\n",
    "         },\n",
    "         \"pembuangan_tinja\":{\n",
    "            \"type\":\"text\"\n",
    "         },\n",
    "         \"Stdt_sanitasi\":{\n",
    "            \"type\":\"text\"\n",
    "         },\n",
    "         \"rumah_layak_huni\":{\n",
    "            \"type\":\"text\"\n",
    "         },\n",
    "         \"kategori\":{\n",
    "            \"type\":\"text\"\n",
    "         },\n",
    "         \"Jumlah_bansos_rutin\":{\n",
    "            \"type\":\"integer\"\n",
    "         }\n",
    "      }\n",
    "   }\n",
    "}"
   ]
  },
  {
   "cell_type": "code",
   "execution_count": 15,
   "metadata": {},
   "outputs": [],
   "source": [
    "Indexname = ''\n",
    "testing = es.indices.create(index='dtksjan20_hashed', body=mapping, ignore=[400,404])"
   ]
  },
  {
   "cell_type": "code",
   "execution_count": 16,
   "metadata": {},
   "outputs": [
    {
     "output_type": "execute_result",
     "data": {
      "text/plain": [
       "{'acknowledged': True,\n",
       " 'shards_acknowledged': True,\n",
       " 'index': 'dtksjan20_hashed'}"
      ]
     },
     "metadata": {},
     "execution_count": 16
    }
   ],
   "source": [
    "testing"
   ]
  },
  {
   "cell_type": "code",
   "execution_count": null,
   "metadata": {},
   "outputs": [],
   "source": [
    "try:\n",
    "    res = helpers.bulk(es,generator(df2))\n",
    "    print(\"Working\")\n",
    "except Exception as e:\n",
    "    pass"
   ]
  },
  {
   "cell_type": "code",
   "execution_count": null,
   "metadata": {},
   "outputs": [],
   "source": []
  }
 ]
}